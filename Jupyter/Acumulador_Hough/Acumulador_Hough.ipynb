{
 "cells": [
  {
   "cell_type": "markdown",
   "id": "bf5f93c8",
   "metadata": {},
   "source": [
    "# Decodificação de dados $\\rho$ e $\\theta$ para acumulador"
   ]
  },
  {
   "cell_type": "markdown",
   "id": "6801b869",
   "metadata": {},
   "source": [
    "No código abaixo, os dados de $\\rho$ e $\\theta$ de saída da FSM da transformada Hough são convertidos para uma matriz."
   ]
  },
  {
   "cell_type": "code",
   "execution_count": 14,
   "id": "585a63e9",
   "metadata": {},
   "outputs": [],
   "source": [
    "import numpy as np\n",
    "\n",
    "def acumulador():\n",
    "    filename = \"../../QuartusHough/modelsim/acumulacao.txt\"\n",
    "    fileout = \"Output/acc.txt\"\n",
    "\n",
    "    acc_data = np.zeros((1600, 180))\n",
    "\n",
    "    fileread = open(filename, 'r')\n",
    "\n",
    "    for line in fileread:\n",
    "        lineread = line.split()\n",
    "        if(lineread[0] != 'x' and lineread[0] != 'z' and lineread[1] != 'x' and lineread[1] != 'z'):\n",
    "            acc_data[int(lineread[0]) - 1][int(lineread[1]) - 1] += 1\n",
    "\n",
    "    fileread.close()\n",
    "\n",
    "    filewrite = open(fileout, 'w')\n",
    "\n",
    "    for i in acc_data:\n",
    "        filewrite.write(str(i))\n",
    "        filewrite.write(\"\\n\\n\")\n",
    "\n",
    "    filewrite.close()\n",
    "\n",
    "acumulador()"
   ]
  }
 ],
 "metadata": {
  "interpreter": {
   "hash": "427b8541cfc07e6fbe7ab4a5298567b1b3022ff2b70fdb07d029f33f0434686a"
  },
  "kernelspec": {
   "display_name": "Python 3.8.8 ('base')",
   "language": "python",
   "name": "python3"
  },
  "language_info": {
   "codemirror_mode": {
    "name": "ipython",
    "version": 3
   },
   "file_extension": ".py",
   "mimetype": "text/x-python",
   "name": "python",
   "nbconvert_exporter": "python",
   "pygments_lexer": "ipython3",
   "version": "3.8.8"
  }
 },
 "nbformat": 4,
 "nbformat_minor": 5
}
