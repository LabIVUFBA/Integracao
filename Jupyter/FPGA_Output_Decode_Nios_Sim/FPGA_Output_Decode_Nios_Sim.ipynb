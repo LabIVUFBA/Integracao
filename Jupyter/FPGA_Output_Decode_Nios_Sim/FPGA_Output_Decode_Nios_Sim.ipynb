{
 "cells": [
  {
   "cell_type": "markdown",
   "id": "bf5f93c8",
   "metadata": {},
   "source": [
    "# Decodificação de binário para imagem"
   ]
  },
  {
   "cell_type": "markdown",
   "id": "6801b869",
   "metadata": {},
   "source": [
    "No código abaixo, o arquivo de saída do Modelsim pode ser renderizada em tempo de simulação."
   ]
  },
  {
   "cell_type": "code",
   "execution_count": null,
   "id": "585a63e9",
   "metadata": {},
   "outputs": [],
   "source": [
    "from PIL import Image\n",
    "import numpy as np\n",
    "\n",
    "def render(hsize, vsize):\n",
    "    filename = \"../../Quartus/software/IntegracaoNios/obj/default/runtime/sim/mentor/imageoutputnios.txt\"\n",
    "    fileout = \"Output/imageoutputnios.bmp\"\n",
    "\n",
    "    fileread = open(filename, 'r')\n",
    "\n",
    "    imgdata = []\n",
    "    for a in range(vsize):\n",
    "        linedata = []\n",
    "        for b in range(0, hsize):\n",
    "            line = fileread.readline()\n",
    "            for char in line:\n",
    "                if(char == \"z\" or char == \"x\"):\n",
    "                    line = \"00000000111111110000000000000000\"\n",
    "            linedata.append([int(line[8:16], 2), int(line[16:24], 2), int(line[24:32], 2)])\n",
    "        imgdata.append(linedata)\n",
    "\n",
    "    imgdata = np.array(imgdata)\n",
    "    imgdata = Image.fromarray(imgdata.astype('uint8'))\n",
    "    imgdata.save(fileout)\n",
    "    display(imgdata)\n",
    "    fileread.close()"
   ]
  },
  {
   "cell_type": "code",
   "execution_count": 208,
   "id": "4ceefc4d",
   "metadata": {},
   "outputs": [
    {
     "data": {
      "image/png": "[encoded data removed]",
      "text/plain": [
       "<PIL.Image.Image image mode=RGB size=640x480 at 0x13D72B73A90>"
      ]
     },
     "metadata": {},
     "output_type": "display_data"
    }
   ],
   "source": [
    "hsize = 640\n",
    "vsize = 480\n",
    "render(hsize, vsize)"
   ]
  }
 ],
 "metadata": {
  "interpreter": {
   "hash": "427b8541cfc07e6fbe7ab4a5298567b1b3022ff2b70fdb07d029f33f0434686a"
  },
  "kernelspec": {
   "display_name": "Python 3.8.8 ('base')",
   "language": "python",
   "name": "python3"
  },
  "language_info": {
   "codemirror_mode": {
    "name": "ipython",
    "version": 3
   },
   "file_extension": ".py",
   "mimetype": "text/x-python",
   "name": "python",
   "nbconvert_exporter": "python",
   "pygments_lexer": "ipython3",
   "version": "3.8.8"
  }
 },
 "nbformat": 4,
 "nbformat_minor": 5
}
