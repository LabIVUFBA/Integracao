{
 "cells": [
  {
   "cell_type": "markdown",
   "id": "bf5f93c8",
   "metadata": {},
   "source": [
    "# Gerador de arquivo `.mif` para teste da FSM Hough"
   ]
  },
  {
   "cell_type": "markdown",
   "id": "6801b869",
   "metadata": {},
   "source": [
    "No código abaixo, é gerado um arquivo `.mif` a partir do arquivo `imageoutputnios.txt`, o qual é resultante da simulação de edge detector monocromático no Modelsim."
   ]
  },
  {
   "cell_type": "code",
   "execution_count": null,
   "id": "585a63e9",
   "metadata": {},
   "outputs": [],
   "source": [
    "def mif_gen():\n",
    "    filename = \"../../Quartus/software/IntegracaoNios/obj/default/runtime/sim/mentor/imageoutputnios.txt\"\n",
    "    fileout = \"Output/imageoutputnios.mif\"\n",
    "\n",
    "    fileread = open(filename, 'r')\n",
    "    filewrite = open(fileout, 'w')\n",
    "\n",
    "\n",
    "    for i in range(307200):\n",
    "        line = fileread.readline()\n",
    "        escrita = \"\"\n",
    "        for char in line:\n",
    "            if(char == \"z\" or char == \"x\"):\n",
    "                line = \"00000000000000000000000000000000\"\n",
    "        if(int(line) > 0):\n",
    "            escrita = escrita + \"1\\n\"\n",
    "        else:\n",
    "            escrita = escrita + \"0\\n\"\n",
    "        filewrite.write(escrita)\n",
    "\n",
    "\n",
    "    fileread.close()\n",
    "    filewrite.close()\n",
    "\n",
    "mif_gen()"
   ]
  }
 ],
 "metadata": {
  "interpreter": {
   "hash": "427b8541cfc07e6fbe7ab4a5298567b1b3022ff2b70fdb07d029f33f0434686a"
  },
  "kernelspec": {
   "display_name": "Python 3.8.8 ('base')",
   "language": "python",
   "name": "python3"
  },
  "language_info": {
   "codemirror_mode": {
    "name": "ipython",
    "version": 3
   },
   "file_extension": ".py",
   "mimetype": "text/x-python",
   "name": "python",
   "nbconvert_exporter": "python",
   "pygments_lexer": "ipython3",
   "version": "3.8.8"
  }
 },
 "nbformat": 4,
 "nbformat_minor": 5
}
